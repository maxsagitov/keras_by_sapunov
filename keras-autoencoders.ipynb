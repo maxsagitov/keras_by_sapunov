{
 "cells": [
  {
   "cell_type": "code",
   "execution_count": 1,
   "metadata": {},
   "outputs": [
    {
     "name": "stderr",
     "output_type": "stream",
     "text": [
      "Using TensorFlow backend.\n"
     ]
    }
   ],
   "source": [
    "import keras\n",
    "import tensorflow as tf"
   ]
  },
  {
   "cell_type": "code",
   "execution_count": 2,
   "metadata": {},
   "outputs": [
    {
     "name": "stdout",
     "output_type": "stream",
     "text": [
      "3.6.1 |Anaconda 4.4.0 (64-bit)| (default, May 11 2017, 13:25:24) [MSC v.1900 64 bit (AMD64)]\n",
      "2.0.5\n",
      "1.2.0\n"
     ]
    }
   ],
   "source": [
    "import sys\n",
    "print(sys.version)\n",
    "print(keras.__version__)\n",
    "print(tf.__version__)"
   ]
  },
  {
   "cell_type": "markdown",
   "metadata": {},
   "source": [
    "![](https://blog.keras.io/img/ae/autoencoder_schema.jpg)"
   ]
  },
  {
   "cell_type": "markdown",
   "metadata": {},
   "source": [
    "** More on autoencoders in Keras **\n",
    "\n",
    "[Building Autoencoders in Keras](https://blog.keras.io/building-autoencoders-in-keras.html)\n",
    "\n",
    "[Автоэнкодеры в Keras, Части 1-6](https://habrahabr.ru/post/331382/)"
   ]
  },
  {
   "cell_type": "markdown",
   "metadata": {},
   "source": [
    "### MNIST data"
   ]
  },
  {
   "cell_type": "code",
   "execution_count": 3,
   "metadata": {},
   "outputs": [],
   "source": [
    "from keras.datasets import mnist\n",
    "import numpy as np\n",
    "(x_train, _), (x_test, _) = mnist.load_data()"
   ]
  },
  {
   "cell_type": "code",
   "execution_count": 4,
   "metadata": {},
   "outputs": [
    {
     "name": "stdout",
     "output_type": "stream",
     "text": [
      "(60000, 784)\n",
      "(10000, 784)\n"
     ]
    }
   ],
   "source": [
    "x_train = x_train.astype('float32') / 255.\n",
    "x_test = x_test.astype('float32') / 255.\n",
    "x_train = x_train.reshape((len(x_train), np.prod(x_train.shape[1:])))\n",
    "x_test = x_test.reshape((len(x_test), np.prod(x_test.shape[1:])))\n",
    "print(x_train.shape)\n",
    "print(x_test.shape)"
   ]
  },
  {
   "cell_type": "markdown",
   "metadata": {},
   "source": [
    "### FNN autoencoder"
   ]
  },
  {
   "cell_type": "code",
   "execution_count": 5,
   "metadata": {
    "collapsed": true
   },
   "outputs": [],
   "source": [
    "from keras.layers import Input, Dense\n",
    "from keras.models import Model\n",
    "\n",
    "# this is the size of our encoded representations\n",
    "encoding_dim = 32  # 32 floats -> compression of factor 24.5, assuming the input is 784 floats\n",
    "\n",
    "# this is our input placeholder\n",
    "input_img = Input(shape=(784,))\n",
    "# \"encoded\" is the encoded representation of the input\n",
    "encoded = Dense(encoding_dim, activation='relu')(input_img)\n",
    "# \"decoded\" is the lossy reconstruction of the input\n",
    "decoded = Dense(784, activation='sigmoid')(encoded)\n",
    "\n",
    "# this model maps an input to its reconstruction\n",
    "autoencoder = Model(input_img, decoded)"
   ]
  },
  {
   "cell_type": "code",
   "execution_count": 6,
   "metadata": {
    "collapsed": true
   },
   "outputs": [],
   "source": [
    "# this model maps an input to its encoded representation\n",
    "encoder = Model(input_img, encoded)"
   ]
  },
  {
   "cell_type": "code",
   "execution_count": 7,
   "metadata": {
    "collapsed": true
   },
   "outputs": [],
   "source": [
    "# create a placeholder for an encoded (32-dimensional) input\n",
    "encoded_input = Input(shape=(encoding_dim,))\n",
    "# retrieve the last layer of the autoencoder model\n",
    "decoder_layer = autoencoder.layers[-1]\n",
    "# create the decoder model\n",
    "decoder = Model(encoded_input, decoder_layer(encoded_input))"
   ]
  },
  {
   "cell_type": "code",
   "execution_count": 8,
   "metadata": {
    "collapsed": true
   },
   "outputs": [],
   "source": [
    "autoencoder.compile(optimizer='adadelta', loss='binary_crossentropy')"
   ]
  },
  {
   "cell_type": "code",
   "execution_count": 9,
   "metadata": {},
   "outputs": [
    {
     "name": "stdout",
     "output_type": "stream",
     "text": [
      "_________________________________________________________________\n",
      "Layer (type)                 Output Shape              Param #   \n",
      "=================================================================\n",
      "input_1 (InputLayer)         (None, 784)               0         \n",
      "_________________________________________________________________\n",
      "dense_1 (Dense)              (None, 32)                25120     \n",
      "_________________________________________________________________\n",
      "dense_2 (Dense)              (None, 784)               25872     \n",
      "=================================================================\n",
      "Total params: 50,992\n",
      "Trainable params: 50,992\n",
      "Non-trainable params: 0\n",
      "_________________________________________________________________\n"
     ]
    }
   ],
   "source": [
    "autoencoder.summary()"
   ]
  },
  {
   "cell_type": "code",
   "execution_count": 10,
   "metadata": {},
   "outputs": [
    {
     "name": "stdout",
     "output_type": "stream",
     "text": [
      "Train on 60000 samples, validate on 10000 samples\n",
      "Epoch 1/50\n",
      "60000/60000 [==============================] - 7s - loss: 0.3684 - val_loss: 0.2725\n",
      "Epoch 2/50\n",
      "60000/60000 [==============================] - 7s - loss: 0.2653 - val_loss: 0.2548\n",
      "Epoch 3/50\n",
      "60000/60000 [==============================] - 7s - loss: 0.2443 - val_loss: 0.2315\n",
      "Epoch 4/50\n",
      "60000/60000 [==============================] - 6s - loss: 0.2232 - val_loss: 0.2129\n",
      "Epoch 5/50\n",
      "60000/60000 [==============================] - 6s - loss: 0.2078 - val_loss: 0.2000\n",
      "Epoch 6/50\n",
      "60000/60000 [==============================] - 6s - loss: 0.1967 - val_loss: 0.1904\n",
      "Epoch 7/50\n",
      "60000/60000 [==============================] - 6s - loss: 0.1880 - val_loss: 0.1828\n",
      "Epoch 8/50\n",
      "60000/60000 [==============================] - 6s - loss: 0.1811 - val_loss: 0.1767\n",
      "Epoch 9/50\n",
      "60000/60000 [==============================] - 6s - loss: 0.1755 - val_loss: 0.1718\n",
      "Epoch 10/50\n",
      "60000/60000 [==============================] - 5s - loss: 0.1708 - val_loss: 0.1672\n",
      "Epoch 11/50\n",
      "60000/60000 [==============================] - 6s - loss: 0.1665 - val_loss: 0.1632\n",
      "Epoch 12/50\n",
      "60000/60000 [==============================] - 6s - loss: 0.1626 - val_loss: 0.1595\n",
      "Epoch 13/50\n",
      "60000/60000 [==============================] - 5s - loss: 0.1590 - val_loss: 0.1560\n",
      "Epoch 14/50\n",
      "60000/60000 [==============================] - 6s - loss: 0.1556 - val_loss: 0.1526\n",
      "Epoch 15/50\n",
      "60000/60000 [==============================] - 6s - loss: 0.1525 - val_loss: 0.1497\n",
      "Epoch 16/50\n",
      "60000/60000 [==============================] - 7s - loss: 0.1495 - val_loss: 0.1469\n",
      "Epoch 17/50\n",
      "60000/60000 [==============================] - 6s - loss: 0.1468 - val_loss: 0.1441\n",
      "Epoch 18/50\n",
      "60000/60000 [==============================] - 6s - loss: 0.1442 - val_loss: 0.1415\n",
      "Epoch 19/50\n",
      "60000/60000 [==============================] - 6s - loss: 0.1418 - val_loss: 0.1392\n",
      "Epoch 20/50\n",
      "60000/60000 [==============================] - 6s - loss: 0.1395 - val_loss: 0.1368\n",
      "Epoch 21/50\n",
      "60000/60000 [==============================] - 6s - loss: 0.1373 - val_loss: 0.1348\n",
      "Epoch 22/50\n",
      "60000/60000 [==============================] - 7s - loss: 0.1352 - val_loss: 0.1327\n",
      "Epoch 23/50\n",
      "60000/60000 [==============================] - 6s - loss: 0.1332 - val_loss: 0.1307\n",
      "Epoch 24/50\n",
      "60000/60000 [==============================] - 6s - loss: 0.1313 - val_loss: 0.1288\n",
      "Epoch 25/50\n",
      "60000/60000 [==============================] - 6s - loss: 0.1295 - val_loss: 0.1270\n",
      "Epoch 26/50\n",
      "60000/60000 [==============================] - 5s - loss: 0.1277 - val_loss: 0.1253\n",
      "Epoch 27/50\n",
      "60000/60000 [==============================] - 6s - loss: 0.1260 - val_loss: 0.1235\n",
      "Epoch 28/50\n",
      "60000/60000 [==============================] - 6s - loss: 0.1243 - val_loss: 0.1220\n",
      "Epoch 29/50\n",
      "60000/60000 [==============================] - 5s - loss: 0.1228 - val_loss: 0.1204\n",
      "Epoch 30/50\n",
      "60000/60000 [==============================] - 6s - loss: 0.1213 - val_loss: 0.1189\n",
      "Epoch 31/50\n",
      "60000/60000 [==============================] - 6s - loss: 0.1199 - val_loss: 0.1175\n",
      "Epoch 32/50\n",
      "60000/60000 [==============================] - 5s - loss: 0.1185 - val_loss: 0.1162\n",
      "Epoch 33/50\n",
      "60000/60000 [==============================] - 5s - loss: 0.1172 - val_loss: 0.1150\n",
      "Epoch 34/50\n",
      "60000/60000 [==============================] - 5s - loss: 0.1160 - val_loss: 0.1138\n",
      "Epoch 35/50\n",
      "60000/60000 [==============================] - 6s - loss: 0.1149 - val_loss: 0.1127\n",
      "Epoch 36/50\n",
      "60000/60000 [==============================] - 6s - loss: 0.1138 - val_loss: 0.1116\n",
      "Epoch 37/50\n",
      "60000/60000 [==============================] - 5s - loss: 0.1128 - val_loss: 0.1107\n",
      "Epoch 38/50\n",
      "60000/60000 [==============================] - 5s - loss: 0.1119 - val_loss: 0.1097\n",
      "Epoch 39/50\n",
      "60000/60000 [==============================] - 6s - loss: 0.1110 - val_loss: 0.1089\n",
      "Epoch 40/50\n",
      "60000/60000 [==============================] - 6s - loss: 0.1102 - val_loss: 0.1081\n",
      "Epoch 41/50\n",
      "60000/60000 [==============================] - 5s - loss: 0.1094 - val_loss: 0.1074\n",
      "Epoch 42/50\n",
      "60000/60000 [==============================] - 6s - loss: 0.1087 - val_loss: 0.1067\n",
      "Epoch 43/50\n",
      "60000/60000 [==============================] - 5s - loss: 0.1080 - val_loss: 0.1060\n",
      "Epoch 44/50\n",
      "60000/60000 [==============================] - 6s - loss: 0.1074 - val_loss: 0.1054\n",
      "Epoch 45/50\n",
      "60000/60000 [==============================] - 6s - loss: 0.1068 - val_loss: 0.1049\n",
      "Epoch 46/50\n",
      "60000/60000 [==============================] - 6s - loss: 0.1063 - val_loss: 0.1044\n",
      "Epoch 47/50\n",
      "60000/60000 [==============================] - 6s - loss: 0.1058 - val_loss: 0.1038\n",
      "Epoch 48/50\n",
      "60000/60000 [==============================] - 6s - loss: 0.1053 - val_loss: 0.1034\n",
      "Epoch 49/50\n",
      "60000/60000 [==============================] - 6s - loss: 0.1049 - val_loss: 0.1030\n",
      "Epoch 50/50\n",
      "60000/60000 [==============================] - 6s - loss: 0.1045 - val_loss: 0.1026\n"
     ]
    },
    {
     "data": {
      "text/plain": [
       "<keras.callbacks.History at 0xde815c0>"
      ]
     },
     "execution_count": 10,
     "metadata": {},
     "output_type": "execute_result"
    }
   ],
   "source": [
    "autoencoder.fit(x_train, x_train,\n",
    "                epochs=50,\n",
    "                batch_size=256,\n",
    "                shuffle=True,\n",
    "                validation_data=(x_test, x_test))"
   ]
  },
  {
   "cell_type": "code",
   "execution_count": 11,
   "metadata": {
    "collapsed": true
   },
   "outputs": [],
   "source": [
    "# encode and decode some digits\n",
    "# note that we take them from the *test* set\n",
    "encoded_imgs = encoder.predict(x_test)\n",
    "decoded_imgs = decoder.predict(encoded_imgs)"
   ]
  },
  {
   "cell_type": "code",
   "execution_count": 12,
   "metadata": {},
   "outputs": [
    {
     "data": {
      "image/png": "[encoded data removed]",
      "text/plain": [
       "<matplotlib.figure.Figure at 0xe074780>"
      ]
     },
     "metadata": {},
     "output_type": "display_data"
    }
   ],
   "source": [
    "import matplotlib.pyplot as plt\n",
    "\n",
    "n = 10  # how many digits we will display\n",
    "plt.figure(figsize=(20, 4))\n",
    "for i in range(n):\n",
    "    # display original\n",
    "    ax = plt.subplot(2, n, i + 1)\n",
    "    plt.imshow(x_test[i].reshape(28, 28))\n",
    "    plt.gray()\n",
    "    ax.get_xaxis().set_visible(False)\n",
    "    ax.get_yaxis().set_visible(False)\n",
    "\n",
    "    # display reconstruction\n",
    "    ax = plt.subplot(2, n, i + 1 + n)\n",
    "    plt.imshow(decoded_imgs[i].reshape(28, 28))\n",
    "    plt.gray()\n",
    "    ax.get_xaxis().set_visible(False)\n",
    "    ax.get_yaxis().set_visible(False)\n",
    "plt.show()"
   ]
  },
  {
   "cell_type": "code",
   "execution_count": 13,
   "metadata": {},
   "outputs": [
    {
     "name": "stdout",
     "output_type": "stream",
     "text": [
      " 9600/10000 [===========================>..] - ETA: 0s"
     ]
    }
   ],
   "source": [
    "score = autoencoder.evaluate(x_test, x_test)"
   ]
  },
  {
   "cell_type": "code",
   "execution_count": 14,
   "metadata": {},
   "outputs": [
    {
     "data": {
      "text/plain": [
       "0.10260042214393615"
      ]
     },
     "execution_count": 14,
     "metadata": {},
     "output_type": "execute_result"
    }
   ],
   "source": [
    "score"
   ]
  },
  {
   "cell_type": "code",
   "execution_count": 15,
   "metadata": {},
   "outputs": [
    {
     "data": {
      "image/png": "[encoded data removed]",
      "text/plain": [
       "<matplotlib.figure.Figure at 0xe074208>"
      ]
     },
     "metadata": {},
     "output_type": "display_data"
    }
   ],
   "source": [
    "n = 10\n",
    "plt.figure(figsize=(20, 8))\n",
    "for i in range(n):\n",
    "    ax = plt.subplot(1, n, i+1)\n",
    "    plt.imshow(encoded_imgs[i].reshape(4, 8).T)\n",
    "    plt.gray()\n",
    "    ax.get_xaxis().set_visible(False)\n",
    "    ax.get_yaxis().set_visible(False)\n",
    "plt.show()"
   ]
  },
  {
   "cell_type": "markdown",
   "metadata": {},
   "source": [
    "### Deep FNN autoencoder"
   ]
  },
  {
   "cell_type": "code",
   "execution_count": 16,
   "metadata": {
    "collapsed": true
   },
   "outputs": [],
   "source": [
    "input_img = Input(shape=(784,))\n",
    "encoded = Dense(128, activation='relu')(input_img)\n",
    "encoded = Dense(64, activation='relu')(encoded)\n",
    "encoded = Dense(32, activation='relu')(encoded)\n",
    "\n",
    "decoded = Dense(64, activation='relu')(encoded)\n",
    "decoded = Dense(128, activation='relu')(decoded)\n",
    "decoded = Dense(784, activation='sigmoid')(decoded)"
   ]
  },
  {
   "cell_type": "code",
   "execution_count": 17,
   "metadata": {},
   "outputs": [
    {
     "name": "stdout",
     "output_type": "stream",
     "text": [
      "Train on 60000 samples, validate on 10000 samples\n",
      "Epoch 1/100\n",
      "60000/60000 [==============================] - 1s - loss: 0.3434 - val_loss: 0.2634\n",
      "Epoch 2/100\n",
      "60000/60000 [==============================] - 1s - loss: 0.2569 - val_loss: 0.2479\n",
      "Epoch 3/100\n",
      "60000/60000 [==============================] - 1s - loss: 0.2383 - val_loss: 0.2246\n",
      "Epoch 4/100\n",
      "60000/60000 [==============================] - 1s - loss: 0.2158 - val_loss: 0.2050\n",
      "Epoch 5/100\n",
      "60000/60000 [==============================] - 1s - loss: 0.2017 - val_loss: 0.1965\n",
      "Epoch 6/100\n",
      "60000/60000 [==============================] - 1s - loss: 0.1918 - val_loss: 0.1853\n",
      "Epoch 7/100\n",
      "60000/60000 [==============================] - 1s - loss: 0.1835 - val_loss: 0.1787\n",
      "Epoch 8/100\n",
      "60000/60000 [==============================] - 1s - loss: 0.1774 - val_loss: 0.1739\n",
      "Epoch 9/100\n",
      "60000/60000 [==============================] - 1s - loss: 0.1711 - val_loss: 0.1651\n",
      "Epoch 10/100\n",
      "60000/60000 [==============================] - 1s - loss: 0.1653 - val_loss: 0.1607\n",
      "Epoch 11/100\n",
      "60000/60000 [==============================] - 1s - loss: 0.1614 - val_loss: 0.1583\n",
      "Epoch 12/100\n",
      "60000/60000 [==============================] - 1s - loss: 0.1582 - val_loss: 0.1567\n",
      "Epoch 13/100\n",
      "60000/60000 [==============================] - 1s - loss: 0.1555 - val_loss: 0.1543\n",
      "Epoch 14/100\n",
      "60000/60000 [==============================] - 1s - loss: 0.1529 - val_loss: 0.1496\n",
      "Epoch 15/100\n",
      "60000/60000 [==============================] - 1s - loss: 0.1504 - val_loss: 0.1472\n",
      "Epoch 16/100\n",
      "60000/60000 [==============================] - 1s - loss: 0.1480 - val_loss: 0.1456\n",
      "Epoch 17/100\n",
      "60000/60000 [==============================] - 1s - loss: 0.1457 - val_loss: 0.1440\n",
      "Epoch 18/100\n",
      "60000/60000 [==============================] - 1s - loss: 0.1437 - val_loss: 0.1419\n",
      "Epoch 19/100\n",
      "60000/60000 [==============================] - 1s - loss: 0.1420 - val_loss: 0.1393\n",
      "Epoch 20/100\n",
      "60000/60000 [==============================] - 1s - loss: 0.1399 - val_loss: 0.1382\n",
      "Epoch 21/100\n",
      "60000/60000 [==============================] - 1s - loss: 0.1381 - val_loss: 0.1350\n",
      "Epoch 22/100\n",
      "60000/60000 [==============================] - 1s - loss: 0.1361 - val_loss: 0.1341\n",
      "Epoch 23/100\n",
      "60000/60000 [==============================] - 1s - loss: 0.1347 - val_loss: 0.1319\n",
      "Epoch 24/100\n",
      "60000/60000 [==============================] - 1s - loss: 0.1335 - val_loss: 0.1314\n",
      "Epoch 25/100\n",
      "60000/60000 [==============================] - 1s - loss: 0.1322 - val_loss: 0.1305\n",
      "Epoch 26/100\n",
      "60000/60000 [==============================] - 1s - loss: 0.1311 - val_loss: 0.1294\n",
      "Epoch 27/100\n",
      "60000/60000 [==============================] - 1s - loss: 0.1301 - val_loss: 0.1284\n",
      "Epoch 28/100\n",
      "60000/60000 [==============================] - 1s - loss: 0.1290 - val_loss: 0.1267\n",
      "Epoch 29/100\n",
      "60000/60000 [==============================] - 1s - loss: 0.1281 - val_loss: 0.1263\n",
      "Epoch 30/100\n",
      "60000/60000 [==============================] - 1s - loss: 0.1272 - val_loss: 0.1257\n",
      "Epoch 31/100\n",
      "60000/60000 [==============================] - 1s - loss: 0.1262 - val_loss: 0.1237\n",
      "Epoch 32/100\n",
      "60000/60000 [==============================] - 1s - loss: 0.1253 - val_loss: 0.1235\n",
      "Epoch 33/100\n",
      "60000/60000 [==============================] - 1s - loss: 0.1241 - val_loss: 0.1237\n",
      "Epoch 34/100\n",
      "60000/60000 [==============================] - 1s - loss: 0.1234 - val_loss: 0.1211\n",
      "Epoch 35/100\n",
      "60000/60000 [==============================] - 1s - loss: 0.1224 - val_loss: 0.1205\n",
      "Epoch 36/100\n",
      "60000/60000 [==============================] - 1s - loss: 0.1216 - val_loss: 0.1188\n",
      "Epoch 37/100\n",
      "60000/60000 [==============================] - 1s - loss: 0.1209 - val_loss: 0.1188\n",
      "Epoch 38/100\n",
      "60000/60000 [==============================] - 1s - loss: 0.1203 - val_loss: 0.1183\n",
      "Epoch 39/100\n",
      "60000/60000 [==============================] - 1s - loss: 0.1197 - val_loss: 0.1176\n",
      "Epoch 40/100\n",
      "60000/60000 [==============================] - 1s - loss: 0.1189 - val_loss: 0.1173\n",
      "Epoch 41/100\n",
      "60000/60000 [==============================] - 1s - loss: 0.1184 - val_loss: 0.1165\n",
      "Epoch 42/100\n",
      "60000/60000 [==============================] - 1s - loss: 0.1179 - val_loss: 0.1158\n",
      "Epoch 43/100\n",
      "60000/60000 [==============================] - 1s - loss: 0.1174 - val_loss: 0.1169\n",
      "Epoch 44/100\n",
      "60000/60000 [==============================] - 1s - loss: 0.1168 - val_loss: 0.1148\n",
      "Epoch 45/100\n",
      "60000/60000 [==============================] - 1s - loss: 0.1162 - val_loss: 0.1149\n",
      "Epoch 46/100\n",
      "60000/60000 [==============================] - 1s - loss: 0.1158 - val_loss: 0.1139\n",
      "Epoch 47/100\n",
      "60000/60000 [==============================] - 1s - loss: 0.1153 - val_loss: 0.1130\n",
      "Epoch 48/100\n",
      "60000/60000 [==============================] - 1s - loss: 0.1150 - val_loss: 0.1123\n",
      "Epoch 49/100\n",
      "60000/60000 [==============================] - 1s - loss: 0.1144 - val_loss: 0.1137\n",
      "Epoch 50/100\n",
      "60000/60000 [==============================] - 1s - loss: 0.1140 - val_loss: 0.1125\n",
      "Epoch 51/100\n",
      "60000/60000 [==============================] - 1s - loss: 0.1136 - val_loss: 0.1121\n",
      "Epoch 52/100\n",
      "60000/60000 [==============================] - 1s - loss: 0.1131 - val_loss: 0.1110\n",
      "Epoch 53/100\n",
      "60000/60000 [==============================] - 1s - loss: 0.1128 - val_loss: 0.1108\n",
      "Epoch 54/100\n",
      "60000/60000 [==============================] - 1s - loss: 0.1126 - val_loss: 0.1101\n",
      "Epoch 55/100\n",
      "60000/60000 [==============================] - 1s - loss: 0.1120 - val_loss: 0.1101\n",
      "Epoch 56/100\n",
      "60000/60000 [==============================] - 1s - loss: 0.1116 - val_loss: 0.1102\n",
      "Epoch 57/100\n",
      "60000/60000 [==============================] - 1s - loss: 0.1113 - val_loss: 0.1094\n",
      "Epoch 58/100\n",
      "60000/60000 [==============================] - 1s - loss: 0.1109 - val_loss: 0.1084\n",
      "Epoch 59/100\n",
      "60000/60000 [==============================] - 1s - loss: 0.1105 - val_loss: 0.1094\n",
      "Epoch 60/100\n",
      "60000/60000 [==============================] - 1s - loss: 0.1104 - val_loss: 0.1099\n",
      "Epoch 61/100\n",
      "60000/60000 [==============================] - 1s - loss: 0.1099 - val_loss: 0.1081\n",
      "Epoch 62/100\n",
      "60000/60000 [==============================] - 1s - loss: 0.1095 - val_loss: 0.1078\n",
      "Epoch 63/100\n",
      "60000/60000 [==============================] - 1s - loss: 0.1092 - val_loss: 0.1076\n",
      "Epoch 64/100\n",
      "60000/60000 [==============================] - 1s - loss: 0.1088 - val_loss: 0.1063\n",
      "Epoch 65/100\n",
      "60000/60000 [==============================] - 1s - loss: 0.1085 - val_loss: 0.1070\n",
      "Epoch 66/100\n",
      "60000/60000 [==============================] - 1s - loss: 0.1080 - val_loss: 0.1056\n",
      "Epoch 67/100\n",
      "60000/60000 [==============================] - 1s - loss: 0.1077 - val_loss: 0.1070\n",
      "Epoch 68/100\n",
      "60000/60000 [==============================] - 1s - loss: 0.1073 - val_loss: 0.1060\n",
      "Epoch 69/100\n",
      "60000/60000 [==============================] - 1s - loss: 0.1072 - val_loss: 0.1065\n",
      "Epoch 70/100\n",
      "60000/60000 [==============================] - 1s - loss: 0.1069 - val_loss: 0.1066\n",
      "Epoch 71/100\n",
      "60000/60000 [==============================] - 1s - loss: 0.1066 - val_loss: 0.1066\n",
      "Epoch 72/100\n",
      "60000/60000 [==============================] - 1s - loss: 0.1064 - val_loss: 0.1050\n",
      "Epoch 73/100\n",
      "60000/60000 [==============================] - 1s - loss: 0.1059 - val_loss: 0.1047\n",
      "Epoch 74/100\n",
      "60000/60000 [==============================] - 1s - loss: 0.1057 - val_loss: 0.1031\n",
      "Epoch 75/100\n",
      "60000/60000 [==============================] - 1s - loss: 0.1055 - val_loss: 0.1045\n",
      "Epoch 76/100\n",
      "60000/60000 [==============================] - 1s - loss: 0.1052 - val_loss: 0.1034\n",
      "Epoch 77/100\n",
      "60000/60000 [==============================] - 1s - loss: 0.1048 - val_loss: 0.1036\n",
      "Epoch 78/100\n",
      "60000/60000 [==============================] - 1s - loss: 0.1047 - val_loss: 0.1031\n",
      "Epoch 79/100\n",
      "60000/60000 [==============================] - 1s - loss: 0.1045 - val_loss: 0.1026\n",
      "Epoch 80/100\n",
      "60000/60000 [==============================] - 1s - loss: 0.1043 - val_loss: 0.1018\n",
      "Epoch 81/100\n",
      "60000/60000 [==============================] - 1s - loss: 0.1040 - val_loss: 0.1027\n",
      "Epoch 82/100\n",
      "60000/60000 [==============================] - 1s - loss: 0.1039 - val_loss: 0.1037\n",
      "Epoch 83/100\n",
      "60000/60000 [==============================] - 1s - loss: 0.1037 - val_loss: 0.1015\n",
      "Epoch 84/100\n",
      "60000/60000 [==============================] - 1s - loss: 0.1034 - val_loss: 0.1021\n",
      "Epoch 85/100\n"
     ]
    },
    {
     "name": "stdout",
     "output_type": "stream",
     "text": [
      "60000/60000 [==============================] - 1s - loss: 0.1032 - val_loss: 0.1016\n",
      "Epoch 86/100\n",
      "60000/60000 [==============================] - 1s - loss: 0.1031 - val_loss: 0.1020\n",
      "Epoch 87/100\n",
      "60000/60000 [==============================] - 1s - loss: 0.1028 - val_loss: 0.1024\n",
      "Epoch 88/100\n",
      "60000/60000 [==============================] - 1s - loss: 0.1026 - val_loss: 0.1015\n",
      "Epoch 89/100\n",
      "60000/60000 [==============================] - 1s - loss: 0.1025 - val_loss: 0.1011\n",
      "Epoch 90/100\n",
      "60000/60000 [==============================] - 1s - loss: 0.1022 - val_loss: 0.1012\n",
      "Epoch 91/100\n",
      "60000/60000 [==============================] - 1s - loss: 0.1022 - val_loss: 0.0999\n",
      "Epoch 92/100\n",
      "60000/60000 [==============================] - 1s - loss: 0.1018 - val_loss: 0.1005\n",
      "Epoch 93/100\n",
      "60000/60000 [==============================] - 1s - loss: 0.1019 - val_loss: 0.1002\n",
      "Epoch 94/100\n",
      "60000/60000 [==============================] - 1s - loss: 0.1016 - val_loss: 0.1006\n",
      "Epoch 95/100\n",
      "60000/60000 [==============================] - 1s - loss: 0.1014 - val_loss: 0.1008\n",
      "Epoch 96/100\n",
      "60000/60000 [==============================] - 1s - loss: 0.1013 - val_loss: 0.0995\n",
      "Epoch 97/100\n",
      "60000/60000 [==============================] - 1s - loss: 0.1011 - val_loss: 0.1000\n",
      "Epoch 98/100\n",
      "60000/60000 [==============================] - 1s - loss: 0.1011 - val_loss: 0.1000\n",
      "Epoch 99/100\n",
      "60000/60000 [==============================] - 1s - loss: 0.1009 - val_loss: 0.0997\n",
      "Epoch 100/100\n",
      "60000/60000 [==============================] - 1s - loss: 0.1008 - val_loss: 0.0998\n"
     ]
    },
    {
     "data": {
      "text/plain": [
       "<keras.callbacks.History at 0x7f0a006cf7b8>"
      ]
     },
     "execution_count": 17,
     "metadata": {},
     "output_type": "execute_result"
    }
   ],
   "source": [
    "deep_autoencoder = Model(input_img, decoded)\n",
    "deep_autoencoder.compile(optimizer='adadelta', loss='binary_crossentropy')\n",
    "\n",
    "deep_autoencoder.fit(x_train, x_train,\n",
    "                epochs=100,\n",
    "                batch_size=256,\n",
    "                shuffle=True,\n",
    "                validation_data=(x_test, x_test))"
   ]
  },
  {
   "cell_type": "code",
   "execution_count": 18,
   "metadata": {
    "collapsed": true
   },
   "outputs": [],
   "source": [
    "# this model maps an input to its encoded representation\n",
    "deep_encoder = Model(input_img, encoded)"
   ]
  },
  {
   "cell_type": "code",
   "execution_count": 19,
   "metadata": {
    "collapsed": true
   },
   "outputs": [],
   "source": [
    "# create a placeholder for an encoded (32-dimensional) input\n",
    "deep_encoded_input = Input(shape=(32,))"
   ]
  },
  {
   "cell_type": "code",
   "execution_count": 20,
   "metadata": {
    "collapsed": true
   },
   "outputs": [],
   "source": [
    "deep_decoder_layers = deep_autoencoder.layers[-3](deep_encoded_input)\n",
    "deep_decoder_layers = deep_autoencoder.layers[-2](deep_decoder_layers)\n",
    "deep_decoder_layers = deep_autoencoder.layers[-1](deep_decoder_layers)\n",
    "deep_decoder = Model(deep_encoded_input, deep_decoder_layers)"
   ]
  },
  {
   "cell_type": "code",
   "execution_count": 21,
   "metadata": {
    "collapsed": true
   },
   "outputs": [],
   "source": [
    "encoded_imgs = deep_encoder.predict(x_test)\n",
    "decoded_imgs = deep_decoder.predict(encoded_imgs)"
   ]
  },
  {
   "cell_type": "code",
   "execution_count": 22,
   "metadata": {},
   "outputs": [
    {
     "data": {
      "image/png": "[encoded data removed]",
      "text/plain": [
       "<matplotlib.figure.Figure at 0x7f0a00157358>"
      ]
     },
     "metadata": {},
     "output_type": "display_data"
    }
   ],
   "source": [
    "import matplotlib.pyplot as plt\n",
    "\n",
    "n = 10  # how many digits we will display\n",
    "plt.figure(figsize=(20, 4))\n",
    "for i in range(n):\n",
    "    # display original\n",
    "    ax = plt.subplot(2, n, i + 1)\n",
    "    plt.imshow(x_test[i].reshape(28, 28))\n",
    "    plt.gray()\n",
    "    ax.get_xaxis().set_visible(False)\n",
    "    ax.get_yaxis().set_visible(False)\n",
    "\n",
    "    # display reconstruction\n",
    "    ax = plt.subplot(2, n, i + 1 + n)\n",
    "    plt.imshow(decoded_imgs[i].reshape(28, 28))\n",
    "    plt.gray()\n",
    "    ax.get_xaxis().set_visible(False)\n",
    "    ax.get_yaxis().set_visible(False)\n",
    "plt.show()"
   ]
  },
  {
   "cell_type": "code",
   "execution_count": 23,
   "metadata": {},
   "outputs": [
    {
     "name": "stdout",
     "output_type": "stream",
     "text": [
      " 9824/10000 [============================>.] - ETA: 0s"
     ]
    }
   ],
   "source": [
    "score = deep_autoencoder.evaluate(x_test, x_test)"
   ]
  },
  {
   "cell_type": "code",
   "execution_count": 24,
   "metadata": {},
   "outputs": [
    {
     "data": {
      "text/plain": [
       "0.099796982073783874"
      ]
     },
     "execution_count": 24,
     "metadata": {},
     "output_type": "execute_result"
    }
   ],
   "source": [
    "score"
   ]
  },
  {
   "cell_type": "code",
   "execution_count": 25,
   "metadata": {},
   "outputs": [
    {
     "data": {
      "image/png": "[encoded data removed]",
      "text/plain": [
       "<matplotlib.figure.Figure at 0x7f0a00143dd8>"
      ]
     },
     "metadata": {},
     "output_type": "display_data"
    }
   ],
   "source": [
    "n = 10\n",
    "plt.figure(figsize=(20, 8))\n",
    "for i in range(n):\n",
    "    ax = plt.subplot(1, n, i+1)\n",
    "    plt.imshow(encoded_imgs[i].reshape(4, 8).T)\n",
    "    plt.gray()\n",
    "    ax.get_xaxis().set_visible(False)\n",
    "    ax.get_yaxis().set_visible(False)\n",
    "plt.show()"
   ]
  },
  {
   "cell_type": "markdown",
   "metadata": {},
   "source": [
    "### Deep regularized FNN autoencoder"
   ]
  },
  {
   "cell_type": "code",
   "execution_count": 26,
   "metadata": {
    "collapsed": true
   },
   "outputs": [],
   "source": [
    "from keras import regularizers"
   ]
  },
  {
   "cell_type": "code",
   "execution_count": 27,
   "metadata": {
    "collapsed": true
   },
   "outputs": [],
   "source": [
    "input_img = Input(shape=(784,))\n",
    "encoded = Dense(128, activation='relu', activity_regularizer=regularizers.l1(10e-7))(input_img)\n",
    "encoded = Dense(64, activation='relu', activity_regularizer=regularizers.l1(10e-7))(encoded)\n",
    "encoded = Dense(32, activation='relu', activity_regularizer=regularizers.l1(10e-7))(encoded)\n",
    "\n",
    "decoded = Dense(64, activation='relu')(encoded)\n",
    "decoded = Dense(128, activation='relu')(decoded)\n",
    "decoded = Dense(784, activation='sigmoid')(decoded)"
   ]
  },
  {
   "cell_type": "code",
   "execution_count": 28,
   "metadata": {
    "collapsed": true
   },
   "outputs": [
    {
     "name": "stdout",
     "output_type": "stream",
     "text": [
      "Train on 60000 samples, validate on 10000 samples\n",
      "Epoch 1/100\n",
      "60000/60000 [==============================] - 1s - loss: 0.4548 - val_loss: 0.2712\n",
      "Epoch 2/100\n",
      "60000/60000 [==============================] - 1s - loss: 0.2626 - val_loss: 0.2581\n",
      "Epoch 3/100\n",
      "60000/60000 [==============================] - 1s - loss: 0.2569 - val_loss: 0.2558\n",
      "Epoch 4/100\n",
      "60000/60000 [==============================] - 1s - loss: 0.2551 - val_loss: 0.2543\n",
      "Epoch 5/100\n",
      "60000/60000 [==============================] - 1s - loss: 0.2539 - val_loss: 0.2534\n",
      "Epoch 6/100\n",
      "60000/60000 [==============================] - 1s - loss: 0.2530 - val_loss: 0.2524\n",
      "Epoch 7/100\n",
      "60000/60000 [==============================] - 1s - loss: 0.2521 - val_loss: 0.2517\n",
      "Epoch 8/100\n",
      "60000/60000 [==============================] - 1s - loss: 0.2512 - val_loss: 0.2506\n",
      "Epoch 9/100\n",
      "60000/60000 [==============================] - 1s - loss: 0.2501 - val_loss: 0.2493\n",
      "Epoch 10/100\n",
      "60000/60000 [==============================] - 1s - loss: 0.2488 - val_loss: 0.2477\n",
      "Epoch 11/100\n",
      "60000/60000 [==============================] - 1s - loss: 0.2474 - val_loss: 0.2463\n",
      "Epoch 12/100\n",
      "60000/60000 [==============================] - 1s - loss: 0.2461 - val_loss: 0.2453\n",
      "Epoch 13/100\n",
      "60000/60000 [==============================] - 1s - loss: 0.2452 - val_loss: 0.2448\n",
      "Epoch 14/100\n",
      "60000/60000 [==============================] - 1s - loss: 0.2443 - val_loss: 0.2437\n",
      "Epoch 15/100\n",
      "60000/60000 [==============================] - 1s - loss: 0.2435 - val_loss: 0.2424\n",
      "Epoch 16/100\n",
      "60000/60000 [==============================] - 1s - loss: 0.2423 - val_loss: 0.2410\n",
      "Epoch 17/100\n",
      "60000/60000 [==============================] - 1s - loss: 0.2409 - val_loss: 0.2400\n",
      "Epoch 18/100\n",
      "60000/60000 [==============================] - 1s - loss: 0.2395 - val_loss: 0.2382\n",
      "Epoch 19/100\n",
      "60000/60000 [==============================] - 1s - loss: 0.2384 - val_loss: 0.2372\n",
      "Epoch 20/100\n",
      "60000/60000 [==============================] - 1s - loss: 0.2375 - val_loss: 0.2364\n",
      "Epoch 21/100\n",
      "60000/60000 [==============================] - 1s - loss: 0.2368 - val_loss: 0.2355\n",
      "Epoch 22/100\n",
      "60000/60000 [==============================] - 1s - loss: 0.2361 - val_loss: 0.2349\n",
      "Epoch 23/100\n",
      "60000/60000 [==============================] - 1s - loss: 0.2353 - val_loss: 0.2343\n",
      "Epoch 24/100\n",
      "60000/60000 [==============================] - 1s - loss: 0.2346 - val_loss: 0.2332\n",
      "Epoch 25/100\n",
      "60000/60000 [==============================] - 1s - loss: 0.2337 - val_loss: 0.2321\n",
      "Epoch 26/100\n",
      "60000/60000 [==============================] - 1s - loss: 0.2326 - val_loss: 0.2309\n",
      "Epoch 27/100\n",
      "60000/60000 [==============================] - 1s - loss: 0.2313 - val_loss: 0.2294\n",
      "Epoch 28/100\n",
      "60000/60000 [==============================] - 1s - loss: 0.2297 - val_loss: 0.2275\n",
      "Epoch 29/100\n",
      "60000/60000 [==============================] - 1s - loss: 0.2281 - val_loss: 0.2262\n",
      "Epoch 30/100\n",
      "60000/60000 [==============================] - 1s - loss: 0.2263 - val_loss: 0.2237\n",
      "Epoch 31/100\n",
      "60000/60000 [==============================] - 1s - loss: 0.2242 - val_loss: 0.2222\n",
      "Epoch 32/100\n",
      "60000/60000 [==============================] - 1s - loss: 0.2224 - val_loss: 0.2206\n",
      "Epoch 33/100\n",
      "60000/60000 [==============================] - 1s - loss: 0.2210 - val_loss: 0.2188\n",
      "Epoch 34/100\n",
      "60000/60000 [==============================] - 1s - loss: 0.2197 - val_loss: 0.2175\n",
      "Epoch 35/100\n",
      "60000/60000 [==============================] - 1s - loss: 0.2185 - val_loss: 0.2165\n",
      "Epoch 36/100\n",
      "60000/60000 [==============================] - 1s - loss: 0.2174 - val_loss: 0.2154\n",
      "Epoch 37/100\n",
      "60000/60000 [==============================] - 1s - loss: 0.2163 - val_loss: 0.2149\n",
      "Epoch 38/100\n",
      "60000/60000 [==============================] - 1s - loss: 0.2153 - val_loss: 0.2136\n",
      "Epoch 39/100\n",
      "60000/60000 [==============================] - 1s - loss: 0.2144 - val_loss: 0.2132\n",
      "Epoch 40/100\n",
      "60000/60000 [==============================] - 1s - loss: 0.2135 - val_loss: 0.2122\n",
      "Epoch 41/100\n",
      "60000/60000 [==============================] - 1s - loss: 0.2125 - val_loss: 0.2109\n",
      "Epoch 42/100\n",
      "60000/60000 [==============================] - 1s - loss: 0.2116 - val_loss: 0.2102\n",
      "Epoch 43/100\n",
      "60000/60000 [==============================] - 1s - loss: 0.2106 - val_loss: 0.2093\n",
      "Epoch 44/100\n",
      "60000/60000 [==============================] - 1s - loss: 0.2097 - val_loss: 0.2085\n",
      "Epoch 45/100\n",
      "60000/60000 [==============================] - 1s - loss: 0.2088 - val_loss: 0.2081\n",
      "Epoch 46/100\n",
      "60000/60000 [==============================] - 1s - loss: 0.2079 - val_loss: 0.2069\n",
      "Epoch 47/100\n",
      "60000/60000 [==============================] - 1s - loss: 0.2071 - val_loss: 0.2063\n",
      "Epoch 48/100\n",
      "60000/60000 [==============================] - 1s - loss: 0.2063 - val_loss: 0.2055\n",
      "Epoch 49/100\n",
      "60000/60000 [==============================] - 1s - loss: 0.2055 - val_loss: 0.2047\n",
      "Epoch 50/100\n",
      "60000/60000 [==============================] - 1s - loss: 0.2048 - val_loss: 0.2042\n",
      "Epoch 51/100\n",
      "60000/60000 [==============================] - 1s - loss: 0.2043 - val_loss: 0.2037\n",
      "Epoch 52/100\n",
      "60000/60000 [==============================] - 1s - loss: 0.2035 - val_loss: 0.2030\n",
      "Epoch 53/100\n",
      "60000/60000 [==============================] - 1s - loss: 0.2029 - val_loss: 0.2023\n",
      "Epoch 54/100\n",
      "60000/60000 [==============================] - 1s - loss: 0.2023 - val_loss: 0.2017\n",
      "Epoch 55/100\n",
      "60000/60000 [==============================] - 1s - loss: 0.2018 - val_loss: 0.2014\n",
      "Epoch 56/100\n",
      "60000/60000 [==============================] - 1s - loss: 0.2012 - val_loss: 0.2010\n",
      "Epoch 57/100\n",
      "60000/60000 [==============================] - 1s - loss: 0.2008 - val_loss: 0.2008\n",
      "Epoch 58/100\n",
      "60000/60000 [==============================] - 1s - loss: 0.2003 - val_loss: 0.1997\n",
      "Epoch 59/100\n",
      "60000/60000 [==============================] - 1s - loss: 0.1999 - val_loss: 0.1996\n",
      "Epoch 60/100\n",
      "60000/60000 [==============================] - 1s - loss: 0.1995 - val_loss: 0.1993\n",
      "Epoch 61/100\n",
      "60000/60000 [==============================] - 1s - loss: 0.1990 - val_loss: 0.1991\n",
      "Epoch 62/100\n",
      "60000/60000 [==============================] - 1s - loss: 0.1987 - val_loss: 0.1986\n",
      "Epoch 63/100\n",
      "60000/60000 [==============================] - 1s - loss: 0.1983 - val_loss: 0.1981\n",
      "Epoch 64/100\n",
      "60000/60000 [==============================] - 1s - loss: 0.1980 - val_loss: 0.1979\n",
      "Epoch 65/100\n",
      "60000/60000 [==============================] - 1s - loss: 0.1976 - val_loss: 0.1975\n",
      "Epoch 66/100\n",
      "60000/60000 [==============================] - 1s - loss: 0.1973 - val_loss: 0.1971\n",
      "Epoch 67/100\n",
      "60000/60000 [==============================] - 1s - loss: 0.1969 - val_loss: 0.1968\n",
      "Epoch 68/100\n",
      "60000/60000 [==============================] - 1s - loss: 0.1967 - val_loss: 0.1965\n",
      "Epoch 69/100\n",
      "60000/60000 [==============================] - 1s - loss: 0.1963 - val_loss: 0.1964\n",
      "Epoch 70/100\n",
      "60000/60000 [==============================] - 1s - loss: 0.1960 - val_loss: 0.1965\n",
      "Epoch 71/100\n",
      "60000/60000 [==============================] - 1s - loss: 0.1957 - val_loss: 0.1956\n",
      "Epoch 72/100\n",
      "60000/60000 [==============================] - 1s - loss: 0.1955 - val_loss: 0.1963\n",
      "Epoch 73/100\n",
      "60000/60000 [==============================] - 1s - loss: 0.1952 - val_loss: 0.1960\n",
      "Epoch 74/100\n",
      "60000/60000 [==============================] - 1s - loss: 0.1949 - val_loss: 0.1948\n",
      "Epoch 75/100\n",
      "60000/60000 [==============================] - 1s - loss: 0.1946 - val_loss: 0.1944\n",
      "Epoch 76/100\n",
      "60000/60000 [==============================] - 1s - loss: 0.1942 - val_loss: 0.1942\n",
      "Epoch 77/100\n",
      "60000/60000 [==============================] - 1s - loss: 0.1940 - val_loss: 0.1940\n",
      "Epoch 78/100\n",
      "60000/60000 [==============================] - 1s - loss: 0.1937 - val_loss: 0.1941\n",
      "Epoch 79/100\n",
      "60000/60000 [==============================] - 1s - loss: 0.1934 - val_loss: 0.1934\n",
      "Epoch 80/100\n",
      "60000/60000 [==============================] - 1s - loss: 0.1931 - val_loss: 0.1932\n",
      "Epoch 81/100\n",
      "60000/60000 [==============================] - 1s - loss: 0.1928 - val_loss: 0.1928\n",
      "Epoch 82/100\n",
      "60000/60000 [==============================] - 1s - loss: 0.1925 - val_loss: 0.1928\n",
      "Epoch 83/100\n",
      "60000/60000 [==============================] - 1s - loss: 0.1923 - val_loss: 0.1923\n",
      "Epoch 84/100\n",
      "60000/60000 [==============================] - 1s - loss: 0.1919 - val_loss: 0.1919\n",
      "Epoch 85/100\n"
     ]
    },
    {
     "name": "stdout",
     "output_type": "stream",
     "text": [
      "60000/60000 [==============================] - 1s - loss: 0.1917 - val_loss: 0.1920\n",
      "Epoch 86/100\n",
      "60000/60000 [==============================] - 1s - loss: 0.1914 - val_loss: 0.1921\n",
      "Epoch 87/100\n",
      "60000/60000 [==============================] - 1s - loss: 0.1911 - val_loss: 0.1914\n",
      "Epoch 88/100\n",
      "60000/60000 [==============================] - 1s - loss: 0.1909 - val_loss: 0.1912\n",
      "Epoch 89/100\n",
      "60000/60000 [==============================] - 1s - loss: 0.1906 - val_loss: 0.1912\n",
      "Epoch 90/100\n",
      "60000/60000 [==============================] - 1s - loss: 0.1903 - val_loss: 0.1904\n",
      "Epoch 91/100\n",
      "60000/60000 [==============================] - 1s - loss: 0.1899 - val_loss: 0.1906\n",
      "Epoch 92/100\n",
      "60000/60000 [==============================] - 1s - loss: 0.1897 - val_loss: 0.1900\n",
      "Epoch 93/100\n",
      "60000/60000 [==============================] - 1s - loss: 0.1894 - val_loss: 0.1899\n",
      "Epoch 94/100\n",
      "60000/60000 [==============================] - 1s - loss: 0.1891 - val_loss: 0.1892\n",
      "Epoch 95/100\n",
      "60000/60000 [==============================] - 1s - loss: 0.1888 - val_loss: 0.1894\n",
      "Epoch 96/100\n",
      "60000/60000 [==============================] - 1s - loss: 0.1885 - val_loss: 0.1890\n",
      "Epoch 97/100\n",
      "60000/60000 [==============================] - 1s - loss: 0.1882 - val_loss: 0.1886\n",
      "Epoch 98/100\n",
      "60000/60000 [==============================] - 1s - loss: 0.1880 - val_loss: 0.1882\n",
      "Epoch 99/100\n",
      "60000/60000 [==============================] - 1s - loss: 0.1877 - val_loss: 0.1883\n",
      "Epoch 100/100\n",
      "60000/60000 [==============================] - 1s - loss: 0.1874 - val_loss: 0.1885\n"
     ]
    },
    {
     "data": {
      "text/plain": [
       "<keras.callbacks.History at 0x7f09e867cc50>"
      ]
     },
     "execution_count": 28,
     "metadata": {},
     "output_type": "execute_result"
    }
   ],
   "source": [
    "deep_autoencoder_l1 = Model(input_img, decoded)\n",
    "deep_autoencoder_l1.compile(optimizer='adadelta', loss='binary_crossentropy')\n",
    "\n",
    "deep_autoencoder_l1.fit(x_train, x_train,\n",
    "                epochs=100,\n",
    "                batch_size=256,\n",
    "                shuffle=True,\n",
    "                validation_data=(x_test, x_test))"
   ]
  },
  {
   "cell_type": "code",
   "execution_count": 29,
   "metadata": {
    "collapsed": true
   },
   "outputs": [],
   "source": [
    "# this model maps an input to its encoded representation\n",
    "deep_encoder_l1 = Model(input_img, encoded)"
   ]
  },
  {
   "cell_type": "code",
   "execution_count": 30,
   "metadata": {
    "collapsed": true
   },
   "outputs": [],
   "source": [
    "# create a placeholder for an encoded (32-dimensional) input\n",
    "deep_encoded_input_l1 = Input(shape=(32,))"
   ]
  },
  {
   "cell_type": "code",
   "execution_count": 31,
   "metadata": {
    "collapsed": true
   },
   "outputs": [],
   "source": [
    "deep_decoder_layers_l1 = deep_autoencoder_l1.layers[-3](deep_encoded_input_l1)\n",
    "deep_decoder_layers_l1 = deep_autoencoder_l1.layers[-2](deep_decoder_layers_l1)\n",
    "deep_decoder_layers_l1 = deep_autoencoder_l1.layers[-1](deep_decoder_layers_l1)\n",
    "deep_decoder_l1 = Model(deep_encoded_input_l1, deep_decoder_layers_l1)"
   ]
  },
  {
   "cell_type": "code",
   "execution_count": 32,
   "metadata": {
    "collapsed": true
   },
   "outputs": [],
   "source": [
    "encoded_imgs = deep_encoder_l1.predict(x_test)\n",
    "decoded_imgs = deep_decoder_l1.predict(encoded_imgs)"
   ]
  },
  {
   "cell_type": "code",
   "execution_count": 33,
   "metadata": {},
   "outputs": [
    {
     "data": {
      "image/png": "[encoded data removed]",
      "text/plain": [
       "<matplotlib.figure.Figure at 0x7f09a7a529b0>"
      ]
     },
     "metadata": {},
     "output_type": "display_data"
    }
   ],
   "source": [
    "n = 10  # how many digits we will display\n",
    "plt.figure(figsize=(20, 4))\n",
    "for i in range(n):\n",
    "    # display original\n",
    "    ax = plt.subplot(2, n, i + 1)\n",
    "    plt.imshow(x_test[i].reshape(28, 28))\n",
    "    plt.gray()\n",
    "    ax.get_xaxis().set_visible(False)\n",
    "    ax.get_yaxis().set_visible(False)\n",
    "\n",
    "    # display reconstruction\n",
    "    ax = plt.subplot(2, n, i + 1 + n)\n",
    "    plt.imshow(decoded_imgs[i].reshape(28, 28))\n",
    "    plt.gray()\n",
    "    ax.get_xaxis().set_visible(False)\n",
    "    ax.get_yaxis().set_visible(False)\n",
    "plt.show()"
   ]
  },
  {
   "cell_type": "code",
   "execution_count": 34,
   "metadata": {},
   "outputs": [
    {
     "name": "stdout",
     "output_type": "stream",
     "text": [
      " 9728/10000 [============================>.] - ETA: 0s"
     ]
    }
   ],
   "source": [
    "score = deep_autoencoder_l1.evaluate(x_test, x_test)"
   ]
  },
  {
   "cell_type": "code",
   "execution_count": 35,
   "metadata": {},
   "outputs": [
    {
     "data": {
      "text/plain": [
       "0.1861714584827423"
      ]
     },
     "execution_count": 35,
     "metadata": {},
     "output_type": "execute_result"
    }
   ],
   "source": [
    "score"
   ]
  },
  {
   "cell_type": "code",
   "execution_count": 36,
   "metadata": {},
   "outputs": [
    {
     "data": {
      "image/png": "[encoded data removed]",
      "text/plain": [
       "<matplotlib.figure.Figure at 0x7f09a7690eb8>"
      ]
     },
     "metadata": {},
     "output_type": "display_data"
    }
   ],
   "source": [
    "n = 10\n",
    "plt.figure(figsize=(20, 8))\n",
    "for i in range(n):\n",
    "    ax = plt.subplot(1, n, i+1)\n",
    "    plt.imshow(encoded_imgs[i].reshape(4, 8).T)\n",
    "    plt.gray()\n",
    "    ax.get_xaxis().set_visible(False)\n",
    "    ax.get_yaxis().set_visible(False)\n",
    "plt.show()"
   ]
  },
  {
   "cell_type": "markdown",
   "metadata": {},
   "source": [
    "### Denoising autoencoder"
   ]
  },
  {
   "cell_type": "code",
   "execution_count": 37,
   "metadata": {
    "collapsed": true
   },
   "outputs": [],
   "source": [
    "from keras.datasets import mnist\n",
    "import numpy as np\n",
    "\n",
    "(x_train, _), (x_test, _) = mnist.load_data()\n",
    "\n",
    "x_train = x_train.astype('float32') / 255.\n",
    "x_test = x_test.astype('float32') / 255.\n",
    "x_train = np.reshape(x_train, (len(x_train), 28, 28, 1))  # adapt this if using `channels_first` image data format\n",
    "x_test = np.reshape(x_test, (len(x_test), 28, 28, 1))  # adapt this if using `channels_first` image data format\n",
    "\n",
    "noise_factor = 0.5\n",
    "x_train_noisy = x_train + noise_factor * np.random.normal(loc=0.0, scale=1.0, size=x_train.shape) \n",
    "x_test_noisy = x_test + noise_factor * np.random.normal(loc=0.0, scale=1.0, size=x_test.shape) \n",
    "\n",
    "x_train_noisy = np.clip(x_train_noisy, 0., 1.)\n",
    "x_test_noisy = np.clip(x_test_noisy, 0., 1.)"
   ]
  },
  {
   "cell_type": "code",
   "execution_count": 38,
   "metadata": {},
   "outputs": [
    {
     "data": {
      "image/png": "[encoded data removed]",
      "text/plain": [
       "<matplotlib.figure.Figure at 0x7f09a77116a0>"
      ]
     },
     "metadata": {},
     "output_type": "display_data"
    }
   ],
   "source": [
    "n = 10\n",
    "plt.figure(figsize=(20, 2))\n",
    "for i in range(n):\n",
    "    ax = plt.subplot(1, n, i+1)\n",
    "    plt.imshow(x_test_noisy[i].reshape(28, 28))\n",
    "    plt.gray()\n",
    "    ax.get_xaxis().set_visible(False)\n",
    "    ax.get_yaxis().set_visible(False)\n",
    "plt.show()"
   ]
  },
  {
   "cell_type": "code",
   "execution_count": 39,
   "metadata": {
    "collapsed": true
   },
   "outputs": [],
   "source": [
    "x_train_noisy = x_train.reshape((len(x_train_noisy), np.prod(x_train_noisy.shape[1:])))\n",
    "x_test_noisy = x_test_noisy.reshape((len(x_test_noisy), np.prod(x_test_noisy.shape[1:])))\n",
    "x_train = x_train.reshape((len(x_train), np.prod(x_train.shape[1:])))\n",
    "x_test = x_test.reshape((len(x_test), np.prod(x_test.shape[1:])))"
   ]
  },
  {
   "cell_type": "code",
   "execution_count": 40,
   "metadata": {
    "collapsed": true
   },
   "outputs": [],
   "source": [
    "input_img = Input(shape=(784,))\n",
    "encoded = Dense(128, activation='relu')(input_img)\n",
    "encoded = Dense(64, activation='relu')(encoded)\n",
    "encoded = Dense(32, activation='relu')(encoded)\n",
    "\n",
    "decoded = Dense(64, activation='relu')(encoded)\n",
    "decoded = Dense(128, activation='relu')(decoded)\n",
    "decoded = Dense(784, activation='sigmoid')(decoded)"
   ]
  },
  {
   "cell_type": "code",
   "execution_count": 41,
   "metadata": {
    "collapsed": true
   },
   "outputs": [
    {
     "name": "stdout",
     "output_type": "stream",
     "text": [
      "Train on 60000 samples, validate on 10000 samples\n",
      "Epoch 1/100\n",
      "60000/60000 [==============================] - 1s - loss: 0.3750 - val_loss: 0.2638\n",
      "Epoch 2/100\n",
      "60000/60000 [==============================] - 1s - loss: 0.2598 - val_loss: 0.2621\n",
      "Epoch 3/100\n",
      "60000/60000 [==============================] - 1s - loss: 0.2481 - val_loss: 0.2555\n",
      "Epoch 4/100\n",
      "60000/60000 [==============================] - 1s - loss: 0.2294 - val_loss: 0.2551\n",
      "Epoch 5/100\n",
      "60000/60000 [==============================] - 1s - loss: 0.2149 - val_loss: 0.2498\n",
      "Epoch 6/100\n",
      "60000/60000 [==============================] - 1s - loss: 0.2045 - val_loss: 0.2485\n",
      "Epoch 7/100\n",
      "60000/60000 [==============================] - 1s - loss: 0.1967 - val_loss: 0.2467\n",
      "Epoch 8/100\n",
      "60000/60000 [==============================] - 1s - loss: 0.1900 - val_loss: 0.2469\n",
      "Epoch 9/100\n",
      "60000/60000 [==============================] - 1s - loss: 0.1822 - val_loss: 0.2686\n",
      "Epoch 10/100\n",
      "60000/60000 [==============================] - 1s - loss: 0.1756 - val_loss: 0.2377\n",
      "Epoch 11/100\n",
      "60000/60000 [==============================] - 1s - loss: 0.1703 - val_loss: 0.2563\n",
      "Epoch 12/100\n",
      "60000/60000 [==============================] - 1s - loss: 0.1658 - val_loss: 0.2359\n",
      "Epoch 13/100\n",
      "60000/60000 [==============================] - 1s - loss: 0.1625 - val_loss: 0.2563\n",
      "Epoch 14/100\n",
      "60000/60000 [==============================] - 1s - loss: 0.1595 - val_loss: 0.2355\n",
      "Epoch 15/100\n",
      "60000/60000 [==============================] - 1s - loss: 0.1568 - val_loss: 0.2594\n",
      "Epoch 16/100\n",
      "60000/60000 [==============================] - 1s - loss: 0.1540 - val_loss: 0.2540\n",
      "Epoch 17/100\n",
      "60000/60000 [==============================] - 1s - loss: 0.1510 - val_loss: 0.2382\n",
      "Epoch 18/100\n",
      "60000/60000 [==============================] - 1s - loss: 0.1483 - val_loss: 0.2578\n",
      "Epoch 19/100\n",
      "60000/60000 [==============================] - 1s - loss: 0.1459 - val_loss: 0.2623\n",
      "Epoch 20/100\n",
      "60000/60000 [==============================] - 1s - loss: 0.1435 - val_loss: 0.2622\n",
      "Epoch 21/100\n",
      "60000/60000 [==============================] - 1s - loss: 0.1413 - val_loss: 0.2453\n",
      "Epoch 22/100\n",
      "60000/60000 [==============================] - 1s - loss: 0.1394 - val_loss: 0.2610\n",
      "Epoch 23/100\n",
      "60000/60000 [==============================] - 1s - loss: 0.1377 - val_loss: 0.2402\n",
      "Epoch 24/100\n",
      "60000/60000 [==============================] - 1s - loss: 0.1363 - val_loss: 0.2568\n",
      "Epoch 25/100\n",
      "60000/60000 [==============================] - 1s - loss: 0.1350 - val_loss: 0.2663\n",
      "Epoch 26/100\n",
      "60000/60000 [==============================] - 1s - loss: 0.1337 - val_loss: 0.2438\n",
      "Epoch 27/100\n",
      "60000/60000 [==============================] - 1s - loss: 0.1328 - val_loss: 0.2369\n",
      "Epoch 28/100\n",
      "60000/60000 [==============================] - 1s - loss: 0.1316 - val_loss: 0.2417\n",
      "Epoch 29/100\n",
      "60000/60000 [==============================] - 1s - loss: 0.1305 - val_loss: 0.2472\n",
      "Epoch 30/100\n",
      "60000/60000 [==============================] - 1s - loss: 0.1293 - val_loss: 0.2629\n",
      "Epoch 31/100\n",
      "60000/60000 [==============================] - 1s - loss: 0.1282 - val_loss: 0.2576\n",
      "Epoch 32/100\n",
      "60000/60000 [==============================] - 1s - loss: 0.1270 - val_loss: 0.2592\n",
      "Epoch 33/100\n",
      "60000/60000 [==============================] - 1s - loss: 0.1261 - val_loss: 0.2549\n",
      "Epoch 34/100\n",
      "60000/60000 [==============================] - 1s - loss: 0.1252 - val_loss: 0.2808\n",
      "Epoch 35/100\n",
      "60000/60000 [==============================] - 1s - loss: 0.1242 - val_loss: 0.2515\n",
      "Epoch 36/100\n",
      "60000/60000 [==============================] - 1s - loss: 0.1235 - val_loss: 0.2512\n",
      "Epoch 37/100\n",
      "60000/60000 [==============================] - 1s - loss: 0.1226 - val_loss: 0.2571\n",
      "Epoch 38/100\n",
      "60000/60000 [==============================] - 1s - loss: 0.1220 - val_loss: 0.2377\n",
      "Epoch 39/100\n",
      "60000/60000 [==============================] - 1s - loss: 0.1212 - val_loss: 0.2736\n",
      "Epoch 40/100\n",
      "60000/60000 [==============================] - 1s - loss: 0.1207 - val_loss: 0.2498\n",
      "Epoch 41/100\n",
      "60000/60000 [==============================] - 1s - loss: 0.1202 - val_loss: 0.2471\n",
      "Epoch 42/100\n",
      "60000/60000 [==============================] - 1s - loss: 0.1197 - val_loss: 0.2558\n",
      "Epoch 43/100\n",
      "60000/60000 [==============================] - 1s - loss: 0.1193 - val_loss: 0.2496\n",
      "Epoch 44/100\n",
      "60000/60000 [==============================] - 1s - loss: 0.1187 - val_loss: 0.2518\n",
      "Epoch 45/100\n",
      "60000/60000 [==============================] - 1s - loss: 0.1182 - val_loss: 0.2746\n",
      "Epoch 46/100\n",
      "60000/60000 [==============================] - 1s - loss: 0.1177 - val_loss: 0.2691\n",
      "Epoch 47/100\n",
      "60000/60000 [==============================] - 1s - loss: 0.1170 - val_loss: 0.2757\n",
      "Epoch 48/100\n",
      "60000/60000 [==============================] - 1s - loss: 0.1166 - val_loss: 0.2698\n",
      "Epoch 49/100\n",
      "60000/60000 [==============================] - 1s - loss: 0.1161 - val_loss: 0.2547\n",
      "Epoch 50/100\n",
      "60000/60000 [==============================] - 1s - loss: 0.1156 - val_loss: 0.2787\n",
      "Epoch 51/100\n",
      "60000/60000 [==============================] - 1s - loss: 0.1149 - val_loss: 0.2667\n",
      "Epoch 52/100\n",
      "60000/60000 [==============================] - 1s - loss: 0.1145 - val_loss: 0.2695\n",
      "Epoch 53/100\n",
      "60000/60000 [==============================] - 1s - loss: 0.1140 - val_loss: 0.2610\n",
      "Epoch 54/100\n",
      "60000/60000 [==============================] - 1s - loss: 0.1136 - val_loss: 0.2559\n",
      "Epoch 55/100\n",
      "60000/60000 [==============================] - 1s - loss: 0.1131 - val_loss: 0.2715\n",
      "Epoch 56/100\n",
      "60000/60000 [==============================] - 1s - loss: 0.1126 - val_loss: 0.2708\n",
      "Epoch 57/100\n",
      "60000/60000 [==============================] - 1s - loss: 0.1123 - val_loss: 0.2579\n",
      "Epoch 58/100\n",
      "60000/60000 [==============================] - 1s - loss: 0.1119 - val_loss: 0.2510\n",
      "Epoch 59/100\n",
      "60000/60000 [==============================] - 1s - loss: 0.1115 - val_loss: 0.2695\n",
      "Epoch 60/100\n",
      "60000/60000 [==============================] - 1s - loss: 0.1112 - val_loss: 0.2549\n",
      "Epoch 61/100\n",
      "60000/60000 [==============================] - 1s - loss: 0.1108 - val_loss: 0.2650\n",
      "Epoch 62/100\n",
      "60000/60000 [==============================] - 1s - loss: 0.1105 - val_loss: 0.2809\n",
      "Epoch 63/100\n",
      "60000/60000 [==============================] - 1s - loss: 0.1101 - val_loss: 0.2714\n",
      "Epoch 64/100\n",
      "60000/60000 [==============================] - 1s - loss: 0.1099 - val_loss: 0.2788\n",
      "Epoch 65/100\n",
      "60000/60000 [==============================] - 1s - loss: 0.1095 - val_loss: 0.2669\n",
      "Epoch 66/100\n",
      "60000/60000 [==============================] - 1s - loss: 0.1090 - val_loss: 0.2862\n",
      "Epoch 67/100\n",
      "60000/60000 [==============================] - 1s - loss: 0.1089 - val_loss: 0.2675\n",
      "Epoch 68/100\n",
      "60000/60000 [==============================] - 1s - loss: 0.1086 - val_loss: 0.2832\n",
      "Epoch 69/100\n",
      "60000/60000 [==============================] - 1s - loss: 0.1083 - val_loss: 0.2859\n",
      "Epoch 70/100\n",
      "60000/60000 [==============================] - 1s - loss: 0.1080 - val_loss: 0.2805\n",
      "Epoch 71/100\n",
      "60000/60000 [==============================] - 1s - loss: 0.1079 - val_loss: 0.2813\n",
      "Epoch 72/100\n",
      "60000/60000 [==============================] - 1s - loss: 0.1076 - val_loss: 0.2892\n",
      "Epoch 73/100\n",
      "60000/60000 [==============================] - 1s - loss: 0.1074 - val_loss: 0.2709\n",
      "Epoch 74/100\n",
      "60000/60000 [==============================] - 1s - loss: 0.1071 - val_loss: 0.2594\n",
      "Epoch 75/100\n",
      "60000/60000 [==============================] - 1s - loss: 0.1069 - val_loss: 0.2874\n",
      "Epoch 76/100\n",
      "60000/60000 [==============================] - 1s - loss: 0.1067 - val_loss: 0.2776\n",
      "Epoch 77/100\n",
      "60000/60000 [==============================] - 1s - loss: 0.1066 - val_loss: 0.2771\n",
      "Epoch 78/100\n",
      "60000/60000 [==============================] - 1s - loss: 0.1063 - val_loss: 0.2670\n",
      "Epoch 79/100\n",
      "60000/60000 [==============================] - 1s - loss: 0.1061 - val_loss: 0.2722\n",
      "Epoch 80/100\n",
      "60000/60000 [==============================] - 1s - loss: 0.1061 - val_loss: 0.2765\n",
      "Epoch 81/100\n",
      "60000/60000 [==============================] - 1s - loss: 0.1057 - val_loss: 0.2864\n",
      "Epoch 82/100\n",
      "60000/60000 [==============================] - 1s - loss: 0.1057 - val_loss: 0.2765\n",
      "Epoch 83/100\n",
      "60000/60000 [==============================] - 1s - loss: 0.1055 - val_loss: 0.2857\n",
      "Epoch 84/100\n",
      "60000/60000 [==============================] - 1s - loss: 0.1053 - val_loss: 0.2778\n",
      "Epoch 85/100\n"
     ]
    },
    {
     "name": "stdout",
     "output_type": "stream",
     "text": [
      "60000/60000 [==============================] - 1s - loss: 0.1050 - val_loss: 0.2659\n",
      "Epoch 86/100\n",
      "60000/60000 [==============================] - 1s - loss: 0.1048 - val_loss: 0.2836\n",
      "Epoch 87/100\n",
      "60000/60000 [==============================] - 1s - loss: 0.1046 - val_loss: 0.2948\n",
      "Epoch 88/100\n",
      "60000/60000 [==============================] - 1s - loss: 0.1046 - val_loss: 0.3000\n",
      "Epoch 89/100\n",
      "60000/60000 [==============================] - 1s - loss: 0.1043 - val_loss: 0.3045\n",
      "Epoch 90/100\n",
      "60000/60000 [==============================] - 1s - loss: 0.1043 - val_loss: 0.2928\n",
      "Epoch 91/100\n",
      "60000/60000 [==============================] - 1s - loss: 0.1041 - val_loss: 0.2796\n",
      "Epoch 92/100\n",
      "60000/60000 [==============================] - 1s - loss: 0.1038 - val_loss: 0.2766\n",
      "Epoch 93/100\n",
      "60000/60000 [==============================] - 1s - loss: 0.1037 - val_loss: 0.2920\n",
      "Epoch 94/100\n",
      "60000/60000 [==============================] - 1s - loss: 0.1037 - val_loss: 0.2856\n",
      "Epoch 95/100\n",
      "60000/60000 [==============================] - 1s - loss: 0.1034 - val_loss: 0.2945\n",
      "Epoch 96/100\n",
      "60000/60000 [==============================] - 1s - loss: 0.1033 - val_loss: 0.2975\n",
      "Epoch 97/100\n",
      "60000/60000 [==============================] - 1s - loss: 0.1030 - val_loss: 0.2751\n",
      "Epoch 98/100\n",
      "60000/60000 [==============================] - 1s - loss: 0.1029 - val_loss: 0.3007\n",
      "Epoch 99/100\n",
      "60000/60000 [==============================] - 1s - loss: 0.1028 - val_loss: 0.2862\n",
      "Epoch 100/100\n",
      "60000/60000 [==============================] - 1s - loss: 0.1026 - val_loss: 0.2868\n"
     ]
    },
    {
     "data": {
      "text/plain": [
       "<keras.callbacks.History at 0x7f09d4291d68>"
      ]
     },
     "execution_count": 41,
     "metadata": {},
     "output_type": "execute_result"
    }
   ],
   "source": [
    "denoising_autoencoder = Model(input_img, decoded)\n",
    "denoising_autoencoder.compile(optimizer='adadelta', loss='binary_crossentropy')\n",
    "\n",
    "denoising_autoencoder.fit(x_train_noisy, x_train,\n",
    "                epochs=100,\n",
    "                batch_size=256,\n",
    "                shuffle=True,\n",
    "                validation_data=(x_test_noisy, x_test))"
   ]
  },
  {
   "cell_type": "code",
   "execution_count": 42,
   "metadata": {
    "collapsed": true
   },
   "outputs": [],
   "source": [
    "denoising_encoder = Model(input_img, encoded)\n",
    "denoising_input = Input(shape=(32,))\n",
    "denoising_decoder_layers = denoising_autoencoder.layers[-3](denoising_input)\n",
    "denoising_decoder_layers = denoising_autoencoder.layers[-2](denoising_decoder_layers)\n",
    "denoising_decoder_layers = denoising_autoencoder.layers[-1](denoising_decoder_layers)\n",
    "denoising_decoder = Model(denoising_input, denoising_decoder_layers)\n",
    "\n",
    "encoded_imgs = denoising_encoder.predict(x_test_noisy)\n",
    "decoded_imgs = denoising_decoder.predict(encoded_imgs)"
   ]
  },
  {
   "cell_type": "code",
   "execution_count": 43,
   "metadata": {},
   "outputs": [
    {
     "data": {
      "image/png": "[encoded data removed]",
      "text/plain": [
       "<matplotlib.figure.Figure at 0x7f0a2a369400>"
      ]
     },
     "metadata": {},
     "output_type": "display_data"
    }
   ],
   "source": [
    "n = 10  # how many digits we will display\n",
    "plt.figure(figsize=(20, 4))\n",
    "for i in range(n):\n",
    "    # display original\n",
    "    ax = plt.subplot(2, n, i + 1)\n",
    "    plt.imshow(x_test_noisy[i].reshape(28, 28))\n",
    "    plt.gray()\n",
    "    ax.get_xaxis().set_visible(False)\n",
    "    ax.get_yaxis().set_visible(False)\n",
    "\n",
    "    # display reconstruction\n",
    "    ax = plt.subplot(2, n, i + 1 + n)\n",
    "    plt.imshow(decoded_imgs[i].reshape(28, 28))\n",
    "    plt.gray()\n",
    "    ax.get_xaxis().set_visible(False)\n",
    "    ax.get_yaxis().set_visible(False)\n",
    "plt.show()"
   ]
  },
  {
   "cell_type": "markdown",
   "metadata": {},
   "source": [
    "### What´s next?"
   ]
  },
  {
   "cell_type": "markdown",
   "metadata": {},
   "source": [
    "* Convolutional autoencoders\n",
    "* Sequence-to-sequence autoencoder\n",
    "* Variational autoencoders (VAE)\n",
    "* GANs"
   ]
  },
  {
   "cell_type": "code",
   "execution_count": null,
   "metadata": {
    "collapsed": true
   },
   "outputs": [],
   "source": []
  }
 ],
 "metadata": {
  "kernelspec": {
   "display_name": "Python [default]",
   "language": "python",
   "name": "python3"
  },
  "language_info": {
   "codemirror_mode": {
    "name": "ipython",
    "version": 3
   },
   "file_extension": ".py",
   "mimetype": "text/x-python",
   "name": "python",
   "nbconvert_exporter": "python",
   "pygments_lexer": "ipython3",
   "version": "3.6.1"
  }
 },
 "nbformat": 4,
 "nbformat_minor": 2
}
